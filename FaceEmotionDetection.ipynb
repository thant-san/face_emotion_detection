{
  "cells": [
    {
      "cell_type": "markdown",
      "metadata": {
        "id": "view-in-github",
        "colab_type": "text"
      },
      "source": [
        "<a href=\"https://colab.research.google.com/github/thant-san/project_face/blob/main/PJ.ipynb\" target=\"_parent\"><img src=\"https://colab.research.google.com/assets/colab-badge.svg\" alt=\"Open In Colab\"/></a>"
      ]
    },
    {
      "cell_type": "code",
      "execution_count": 2,
      "metadata": {
        "colab": {
          "base_uri": "https://localhost:8080/"
        },
        "id": "V3nAqrPkV26i",
        "outputId": "f10f861c-0693-4f0d-9b56-0300c263d07d"
      },
      "outputs": [
        {
          "output_type": "stream",
          "name": "stdout",
          "text": [
            "Mounted at /content/drive\n"
          ]
        }
      ],
      "source": [
        "from google.colab import drive\n",
        "drive.mount('/content/drive')"
      ]
    },
    {
      "cell_type": "code",
      "execution_count": 3,
      "metadata": {
        "id": "Yp87tgC2Wa6y"
      },
      "outputs": [],
      "source": [
        "import numpy as np\n",
        "import pandas as pd\n",
        "import matplotlib.pyplot as plt\n",
        "%matplotlib inline"
      ]
    },
    {
      "cell_type": "code",
      "execution_count": 4,
      "metadata": {
        "id": "kufQSAibWb1c"
      },
      "outputs": [],
      "source": [
        "data = pd.read_csv('/content/drive/MyDrive/fer2013.csv')"
      ]
    },
    {
      "cell_type": "code",
      "execution_count": 5,
      "metadata": {
        "colab": {
          "base_uri": "https://localhost:8080/",
          "height": 206
        },
        "id": "XTF3VioEWnDa",
        "outputId": "0efb004d-3d19-46e1-f105-0a84d2f00e64"
      },
      "outputs": [
        {
          "output_type": "execute_result",
          "data": {
            "text/plain": [
              "   emotion                                             pixels     Usage\n",
              "0        0  70 80 82 72 58 58 60 63 54 58 60 48 89 115 121...  Training\n",
              "1        0  151 150 147 155 148 133 111 140 170 174 182 15...  Training\n",
              "2        2  231 212 156 164 174 138 161 173 182 200 106 38...  Training\n",
              "3        4  24 32 36 30 32 23 19 20 30 41 21 22 32 34 21 1...  Training\n",
              "4        6  4 0 0 0 0 0 0 0 0 0 0 0 3 15 23 28 48 50 58 84...  Training"
            ],
            "text/html": [
              "\n",
              "  <div id=\"df-773c65f9-8666-44ad-9c4c-6966ea548a69\">\n",
              "    <div class=\"colab-df-container\">\n",
              "      <div>\n",
              "<style scoped>\n",
              "    .dataframe tbody tr th:only-of-type {\n",
              "        vertical-align: middle;\n",
              "    }\n",
              "\n",
              "    .dataframe tbody tr th {\n",
              "        vertical-align: top;\n",
              "    }\n",
              "\n",
              "    .dataframe thead th {\n",
              "        text-align: right;\n",
              "    }\n",
              "</style>\n",
              "<table border=\"1\" class=\"dataframe\">\n",
              "  <thead>\n",
              "    <tr style=\"text-align: right;\">\n",
              "      <th></th>\n",
              "      <th>emotion</th>\n",
              "      <th>pixels</th>\n",
              "      <th>Usage</th>\n",
              "    </tr>\n",
              "  </thead>\n",
              "  <tbody>\n",
              "    <tr>\n",
              "      <th>0</th>\n",
              "      <td>0</td>\n",
              "      <td>70 80 82 72 58 58 60 63 54 58 60 48 89 115 121...</td>\n",
              "      <td>Training</td>\n",
              "    </tr>\n",
              "    <tr>\n",
              "      <th>1</th>\n",
              "      <td>0</td>\n",
              "      <td>151 150 147 155 148 133 111 140 170 174 182 15...</td>\n",
              "      <td>Training</td>\n",
              "    </tr>\n",
              "    <tr>\n",
              "      <th>2</th>\n",
              "      <td>2</td>\n",
              "      <td>231 212 156 164 174 138 161 173 182 200 106 38...</td>\n",
              "      <td>Training</td>\n",
              "    </tr>\n",
              "    <tr>\n",
              "      <th>3</th>\n",
              "      <td>4</td>\n",
              "      <td>24 32 36 30 32 23 19 20 30 41 21 22 32 34 21 1...</td>\n",
              "      <td>Training</td>\n",
              "    </tr>\n",
              "    <tr>\n",
              "      <th>4</th>\n",
              "      <td>6</td>\n",
              "      <td>4 0 0 0 0 0 0 0 0 0 0 0 3 15 23 28 48 50 58 84...</td>\n",
              "      <td>Training</td>\n",
              "    </tr>\n",
              "  </tbody>\n",
              "</table>\n",
              "</div>\n",
              "      <button class=\"colab-df-convert\" onclick=\"convertToInteractive('df-773c65f9-8666-44ad-9c4c-6966ea548a69')\"\n",
              "              title=\"Convert this dataframe to an interactive table.\"\n",
              "              style=\"display:none;\">\n",
              "        \n",
              "  <svg xmlns=\"http://www.w3.org/2000/svg\" height=\"24px\"viewBox=\"0 0 24 24\"\n",
              "       width=\"24px\">\n",
              "    <path d=\"M0 0h24v24H0V0z\" fill=\"none\"/>\n",
              "    <path d=\"M18.56 5.44l.94 2.06.94-2.06 2.06-.94-2.06-.94-.94-2.06-.94 2.06-2.06.94zm-11 1L8.5 8.5l.94-2.06 2.06-.94-2.06-.94L8.5 2.5l-.94 2.06-2.06.94zm10 10l.94 2.06.94-2.06 2.06-.94-2.06-.94-.94-2.06-.94 2.06-2.06.94z\"/><path d=\"M17.41 7.96l-1.37-1.37c-.4-.4-.92-.59-1.43-.59-.52 0-1.04.2-1.43.59L10.3 9.45l-7.72 7.72c-.78.78-.78 2.05 0 2.83L4 21.41c.39.39.9.59 1.41.59.51 0 1.02-.2 1.41-.59l7.78-7.78 2.81-2.81c.8-.78.8-2.07 0-2.86zM5.41 20L4 18.59l7.72-7.72 1.47 1.35L5.41 20z\"/>\n",
              "  </svg>\n",
              "      </button>\n",
              "      \n",
              "  <style>\n",
              "    .colab-df-container {\n",
              "      display:flex;\n",
              "      flex-wrap:wrap;\n",
              "      gap: 12px;\n",
              "    }\n",
              "\n",
              "    .colab-df-convert {\n",
              "      background-color: #E8F0FE;\n",
              "      border: none;\n",
              "      border-radius: 50%;\n",
              "      cursor: pointer;\n",
              "      display: none;\n",
              "      fill: #1967D2;\n",
              "      height: 32px;\n",
              "      padding: 0 0 0 0;\n",
              "      width: 32px;\n",
              "    }\n",
              "\n",
              "    .colab-df-convert:hover {\n",
              "      background-color: #E2EBFA;\n",
              "      box-shadow: 0px 1px 2px rgba(60, 64, 67, 0.3), 0px 1px 3px 1px rgba(60, 64, 67, 0.15);\n",
              "      fill: #174EA6;\n",
              "    }\n",
              "\n",
              "    [theme=dark] .colab-df-convert {\n",
              "      background-color: #3B4455;\n",
              "      fill: #D2E3FC;\n",
              "    }\n",
              "\n",
              "    [theme=dark] .colab-df-convert:hover {\n",
              "      background-color: #434B5C;\n",
              "      box-shadow: 0px 1px 3px 1px rgba(0, 0, 0, 0.15);\n",
              "      filter: drop-shadow(0px 1px 2px rgba(0, 0, 0, 0.3));\n",
              "      fill: #FFFFFF;\n",
              "    }\n",
              "  </style>\n",
              "\n",
              "      <script>\n",
              "        const buttonEl =\n",
              "          document.querySelector('#df-773c65f9-8666-44ad-9c4c-6966ea548a69 button.colab-df-convert');\n",
              "        buttonEl.style.display =\n",
              "          google.colab.kernel.accessAllowed ? 'block' : 'none';\n",
              "\n",
              "        async function convertToInteractive(key) {\n",
              "          const element = document.querySelector('#df-773c65f9-8666-44ad-9c4c-6966ea548a69');\n",
              "          const dataTable =\n",
              "            await google.colab.kernel.invokeFunction('convertToInteractive',\n",
              "                                                     [key], {});\n",
              "          if (!dataTable) return;\n",
              "\n",
              "          const docLinkHtml = 'Like what you see? Visit the ' +\n",
              "            '<a target=\"_blank\" href=https://colab.research.google.com/notebooks/data_table.ipynb>data table notebook</a>'\n",
              "            + ' to learn more about interactive tables.';\n",
              "          element.innerHTML = '';\n",
              "          dataTable['output_type'] = 'display_data';\n",
              "          await google.colab.output.renderOutput(dataTable, element);\n",
              "          const docLink = document.createElement('div');\n",
              "          docLink.innerHTML = docLinkHtml;\n",
              "          element.appendChild(docLink);\n",
              "        }\n",
              "      </script>\n",
              "    </div>\n",
              "  </div>\n",
              "  "
            ]
          },
          "metadata": {},
          "execution_count": 5
        }
      ],
      "source": [
        "data.head()"
      ]
    },
    {
      "cell_type": "code",
      "execution_count": 6,
      "metadata": {
        "colab": {
          "base_uri": "https://localhost:8080/"
        },
        "id": "4E2YejXLWoqZ",
        "outputId": "d43f2013-a0c0-4388-805d-781af3e46ee8"
      },
      "outputs": [
        {
          "output_type": "execute_result",
          "data": {
            "text/plain": [
              "(35887, 3)"
            ]
          },
          "metadata": {},
          "execution_count": 6
        }
      ],
      "source": [
        "data.shape"
      ]
    },
    {
      "cell_type": "code",
      "execution_count": 7,
      "metadata": {
        "id": "XAPZ3sK7W5Bb"
      },
      "outputs": [],
      "source": [
        "labels = data.iloc[:, 0]"
      ]
    },
    {
      "cell_type": "code",
      "execution_count": null,
      "metadata": {
        "id": "fc0Qv7btXBhQ"
      },
      "outputs": [],
      "source": [
        "pixels = data.iloc[:, 1]\n",
        "images = np.zeros((pixels.shape[0], 48*48))\n",
        "for ix in range(images.shape[0]):\n",
        "    p = pixels[ix].split(' ')\n",
        "    for iy in range(images.shape[1]):\n",
        "        images[ix, iy] = int(p[iy])"
      ]
    },
    {
      "cell_type": "code",
      "execution_count": null,
      "metadata": {
        "colab": {
          "base_uri": "https://localhost:8080/",
          "height": 594
        },
        "id": "2nHFNaJ3XJ2b",
        "outputId": "6cbb3069-9cc6-4c68-fae0-4bf3014acdbd"
      },
      "outputs": [
        {
          "data": {
            "image/png": "[encoded data removed]",
            "text/plain": [
              "<Figure size 720x720 with 9 Axes>"
            ]
          },
          "metadata": {},
          "output_type": "display_data"
        }
      ],
      "source": [
        "plt.figure(figsize = (10,10))\n",
        "for index,image in enumerate(images[:9]):\n",
        "    plt.subplot(3,3,index+1)\n",
        "    plt.imshow(image.reshape((48,48)), cmap = 'gray')\n",
        "plt.show()"
      ]
    },
    {
      "cell_type": "code",
      "execution_count": null,
      "metadata": {
        "colab": {
          "base_uri": "https://localhost:8080/"
        },
        "id": "2TCPjGQuXOQ6",
        "outputId": "3d1e26dd-ef4b-4a04-f0a9-53d025464687"
      },
      "outputs": [
        {
          "data": {
            "text/plain": [
              "array(['Training', 'PublicTest', 'PrivateTest'], dtype=object)"
            ]
          },
          "execution_count": 9,
          "metadata": {},
          "output_type": "execute_result"
        }
      ],
      "source": [
        "train_or_test = data.iloc[:, 2].values\n",
        "data[\"Usage\"].unique()"
      ]
    },
    {
      "cell_type": "code",
      "execution_count": null,
      "metadata": {
        "colab": {
          "base_uri": "https://localhost:8080/"
        },
        "id": "qu3W9EzRXTGp",
        "outputId": "523f100e-9295-49d9-ac42-6c665d2c4799"
      },
      "outputs": [
        {
          "data": {
            "text/plain": [
              "array([0, 2, 4, 6, 3, 5, 1])"
            ]
          },
          "execution_count": 10,
          "metadata": {},
          "output_type": "execute_result"
        }
      ],
      "source": [
        "data['emotion'].unique()"
      ]
    },
    {
      "cell_type": "code",
      "execution_count": null,
      "metadata": {
        "id": "qWYU0Px7XV1y"
      },
      "outputs": [],
      "source": [
        "reshaped_images = np.zeros((images.shape[0], 48, 48,1))\n",
        "i = 0\n",
        "for image in images:\n",
        "  reshaped_images[i] = image.reshape((48,48,1))\n",
        "  i+=1"
      ]
    },
    {
      "cell_type": "code",
      "execution_count": null,
      "metadata": {
        "colab": {
          "base_uri": "https://localhost:8080/"
        },
        "id": "JBVJ5e3CXbv6",
        "outputId": "a75d0bad-c075-4210-dd44-01a8ee2b01d4"
      },
      "outputs": [
        {
          "data": {
            "text/plain": [
              "(35887, 48, 48, 1)"
            ]
          },
          "execution_count": 12,
          "metadata": {},
          "output_type": "execute_result"
        }
      ],
      "source": [
        "reshaped_images.shape"
      ]
    },
    {
      "cell_type": "code",
      "execution_count": null,
      "metadata": {
        "id": "GOeY7LDNXjN5"
      },
      "outputs": [],
      "source": [
        "norm_images = reshaped_images / 255.0"
      ]
    },
    {
      "cell_type": "code",
      "execution_count": null,
      "metadata": {
        "colab": {
          "base_uri": "https://localhost:8080/",
          "height": 267
        },
        "id": "qGOlCm-uXlvR",
        "outputId": "82c465a6-7388-4bd1-f6e6-ee0b9b21b581"
      },
      "outputs": [
        {
          "data": {
            "image/png": "[encoded data removed]",
            "text/plain": [
              "<Figure size 432x288 with 1 Axes>"
            ]
          },
          "metadata": {},
          "output_type": "display_data"
        }
      ],
      "source": [
        "plt.imshow(norm_images[5].reshape((48,48)), cmap=\"gray\")\n",
        "plt.show()"
      ]
    },
    {
      "cell_type": "code",
      "execution_count": null,
      "metadata": {
        "id": "QiwqKhtEXvix"
      },
      "outputs": [],
      "source": [
        "from tensorflow.keras.utils import to_categorical"
      ]
    },
    {
      "cell_type": "code",
      "execution_count": null,
      "metadata": {
        "colab": {
          "base_uri": "https://localhost:8080/"
        },
        "id": "qIYMYt7QXyir",
        "outputId": "15b8c384-83a0-4b48-e035-1fbb3d7813bc"
      },
      "outputs": [
        {
          "data": {
            "text/plain": [
              "(35887, 7)"
            ]
          },
          "execution_count": 19,
          "metadata": {},
          "output_type": "execute_result"
        }
      ],
      "source": [
        "new_labels = to_categorical(labels, num_classes=7)\n",
        "new_labels.shape"
      ]
    },
    {
      "cell_type": "code",
      "execution_count": null,
      "metadata": {
        "colab": {
          "base_uri": "https://localhost:8080/"
        },
        "id": "oJHPZ0kwYCHJ",
        "outputId": "5484b668-7862-4d69-f1de-8305af737650"
      },
      "outputs": [
        {
          "data": {
            "text/plain": [
              "(35887, 48, 48, 1)"
            ]
          },
          "execution_count": 20,
          "metadata": {},
          "output_type": "execute_result"
        }
      ],
      "source": [
        "reshaped_images.shape"
      ]
    },
    {
      "cell_type": "code",
      "execution_count": null,
      "metadata": {
        "colab": {
          "base_uri": "https://localhost:8080/"
        },
        "id": "W14rCaptYN-j",
        "outputId": "a62f419a-0cb6-4722-b7b4-efb520d1edf7"
      },
      "outputs": [
        {
          "data": {
            "text/plain": [
              "((28709, 48, 48, 1), (7178, 48, 48, 1), (28709, 7), (7178, 7))"
            ]
          },
          "execution_count": 21,
          "metadata": {},
          "output_type": "execute_result"
        }
      ],
      "source": [
        "from sklearn.model_selection import train_test_split\n",
        "X_train, X_test, y_train, y_test = train_test_split(norm_images, new_labels, test_size=0.2, random_state = 42)\n",
        "X_train.shape, X_test.shape, y_train.shape, y_test.shape"
      ]
    },
    {
      "cell_type": "code",
      "execution_count": null,
      "metadata": {
        "colab": {
          "base_uri": "https://localhost:8080/",
          "height": 35
        },
        "id": "e44x4C-sYRma",
        "outputId": "c06580d3-89d6-4df4-82fd-ddee6aac457b"
      },
      "outputs": [
        {
          "data": {
            "application/vnd.google.colaboratory.intrinsic+json": {
              "type": "string"
            },
            "text/plain": [
              "'2.11.0'"
            ]
          },
          "execution_count": 22,
          "metadata": {},
          "output_type": "execute_result"
        }
      ],
      "source": [
        "import tensorflow as tf\n",
        "tf.__version__"
      ]
    },
    {
      "cell_type": "code",
      "execution_count": null,
      "metadata": {
        "id": "BhfOTzJuYT65"
      },
      "outputs": [],
      "source": [
        "from tensorflow.keras.layers import Dense, Dropout, Flatten, Conv2D, BatchNormalization, Activation, MaxPooling2D\n",
        "from tensorflow.keras.models import Model, Sequential\n",
        "from tensorflow.keras.optimizers import Adam\n",
        "from tensorflow.keras.callbacks import ModelCheckpoint, ReduceLROnPlateau"
      ]
    },
    {
      "cell_type": "code",
      "execution_count": null,
      "metadata": {
        "colab": {
          "base_uri": "https://localhost:8080/"
        },
        "id": "aW9qxS3JYY2C",
        "outputId": "26f8a106-51a1-4014-9ab0-a7ad751831b4"
      },
      "outputs": [
        {
          "name": "stderr",
          "output_type": "stream",
          "text": [
            "WARNING:absl:`lr` is deprecated, please use `learning_rate` instead, or use the legacy optimizer, e.g.,tf.keras.optimizers.legacy.Adam.\n"
          ]
        },
        {
          "name": "stdout",
          "output_type": "stream",
          "text": [
            "Model: \"sequential\"\n",
            "_________________________________________________________________\n",
            " Layer (type)                Output Shape              Param #   \n",
            "=================================================================\n",
            " conv2d (Conv2D)             (None, 48, 48, 64)        640       \n",
            "                                                                 \n",
            " batch_normalization (BatchN  (None, 48, 48, 64)       256       \n",
            " ormalization)                                                   \n",
            "                                                                 \n",
            " activation (Activation)     (None, 48, 48, 64)        0         \n",
            "                                                                 \n",
            " max_pooling2d (MaxPooling2D  (None, 24, 24, 64)       0         \n",
            " )                                                               \n",
            "                                                                 \n",
            " dropout (Dropout)           (None, 24, 24, 64)        0         \n",
            "                                                                 \n",
            " conv2d_1 (Conv2D)           (None, 24, 24, 128)       204928    \n",
            "                                                                 \n",
            " batch_normalization_1 (Batc  (None, 24, 24, 128)      512       \n",
            " hNormalization)                                                 \n",
            "                                                                 \n",
            " activation_1 (Activation)   (None, 24, 24, 128)       0         \n",
            "                                                                 \n",
            " max_pooling2d_1 (MaxPooling  (None, 12, 12, 128)      0         \n",
            " 2D)                                                             \n",
            "                                                                 \n",
            " dropout_1 (Dropout)         (None, 12, 12, 128)       0         \n",
            "                                                                 \n",
            " conv2d_2 (Conv2D)           (None, 12, 12, 512)       590336    \n",
            "                                                                 \n",
            " batch_normalization_2 (Batc  (None, 12, 12, 512)      2048      \n",
            " hNormalization)                                                 \n",
            "                                                                 \n",
            " activation_2 (Activation)   (None, 12, 12, 512)       0         \n",
            "                                                                 \n",
            " max_pooling2d_2 (MaxPooling  (None, 6, 6, 512)        0         \n",
            " 2D)                                                             \n",
            "                                                                 \n",
            " dropout_2 (Dropout)         (None, 6, 6, 512)         0         \n",
            "                                                                 \n",
            " conv2d_3 (Conv2D)           (None, 6, 6, 512)         2359808   \n",
            "                                                                 \n",
            " batch_normalization_3 (Batc  (None, 6, 6, 512)        2048      \n",
            " hNormalization)                                                 \n",
            "                                                                 \n",
            " activation_3 (Activation)   (None, 6, 6, 512)         0         \n",
            "                                                                 \n",
            " max_pooling2d_3 (MaxPooling  (None, 3, 3, 512)        0         \n",
            " 2D)                                                             \n",
            "                                                                 \n",
            " dropout_3 (Dropout)         (None, 3, 3, 512)         0         \n",
            "                                                                 \n",
            " flatten (Flatten)           (None, 4608)              0         \n",
            "                                                                 \n",
            " dense (Dense)               (None, 256)               1179904   \n",
            "                                                                 \n",
            " batch_normalization_4 (Batc  (None, 256)              1024      \n",
            " hNormalization)                                                 \n",
            "                                                                 \n",
            " activation_4 (Activation)   (None, 256)               0         \n",
            "                                                                 \n",
            " dropout_4 (Dropout)         (None, 256)               0         \n",
            "                                                                 \n",
            " dense_1 (Dense)             (None, 512)               131584    \n",
            "                                                                 \n",
            " batch_normalization_5 (Batc  (None, 512)              2048      \n",
            " hNormalization)                                                 \n",
            "                                                                 \n",
            " activation_5 (Activation)   (None, 512)               0         \n",
            "                                                                 \n",
            " dropout_5 (Dropout)         (None, 512)               0         \n",
            "                                                                 \n",
            " dense_2 (Dense)             (None, 7)                 3591      \n",
            "                                                                 \n",
            "=================================================================\n",
            "Total params: 4,478,727\n",
            "Trainable params: 4,474,759\n",
            "Non-trainable params: 3,968\n",
            "_________________________________________________________________\n"
          ]
        }
      ],
      "source": [
        "model = Sequential()\n",
        "\n",
        "model.add(Conv2D(64, (3,3), padding = \"same\", input_shape = (48,48,1)))\n",
        "model.add(BatchNormalization())\n",
        "model.add(Activation('relu'))\n",
        "model.add(MaxPooling2D(pool_size = (2,2)))\n",
        "model.add(Dropout(0.25))\n",
        "\n",
        "model.add(Conv2D(128, (5,5), padding = \"same\"))\n",
        "model.add(BatchNormalization())\n",
        "model.add(Activation('relu'))\n",
        "model.add(MaxPooling2D(pool_size = (2,2)))\n",
        "model.add(Dropout(0.25))\n",
        "\n",
        "model.add(Conv2D(512, (3,3), padding = \"same\"))\n",
        "model.add(BatchNormalization())\n",
        "model.add(Activation('relu'))\n",
        "model.add(MaxPooling2D(pool_size = (2,2)))\n",
        "model.add(Dropout(0.25))\n",
        "\n",
        "model.add(Conv2D(512, (3,3), padding = \"same\"))\n",
        "model.add(BatchNormalization())\n",
        "model.add(Activation('relu'))\n",
        "model.add(MaxPooling2D(pool_size = (2,2)))\n",
        "model.add(Dropout(0.25))\n",
        "\n",
        "model.add(Flatten())\n",
        "\n",
        "model.add(Dense(256))\n",
        "model.add(BatchNormalization())\n",
        "model.add(Activation('relu'))\n",
        "model.add(Dropout(0.25))\n",
        "\n",
        "model.add(Dense(512))\n",
        "model.add(BatchNormalization())\n",
        "model.add(Activation('relu'))\n",
        "model.add(Dropout(0.25))\n",
        "\n",
        "model.add(Dense(7, activation = \"softmax\"))\n",
        "opt = Adam(lr = 0.0005)\n",
        "\n",
        "model.compile(optimizer = opt, loss = \"categorical_crossentropy\", metrics = ['accuracy'])\n",
        "model.summary()"
      ]
    },
    {
      "cell_type": "code",
      "execution_count": null,
      "metadata": {
        "colab": {
          "background_save": true,
          "base_uri": "https://localhost:8080/"
        },
        "id": "sEgzbvg0YcBc",
        "outputId": "eb830823-38ee-4b5b-f71b-e13670dd76af"
      },
      "outputs": [
        {
          "name": "stdout",
          "output_type": "stream",
          "text": [
            "Epoch 1/50\n",
            "898/898 [==============================] - ETA: 0s - loss: 1.7052 - accuracy: 0.3500\n",
            "Epoch 1: saving model to fer_model.h5\n",
            "898/898 [==============================] - 1007s 1s/step - loss: 1.7052 - accuracy: 0.3500 - val_loss: 1.4763 - val_accuracy: 0.4021 - lr: 0.0010\n",
            "Epoch 2/50\n",
            "898/898 [==============================] - ETA: 0s - loss: 1.3714 - accuracy: 0.4734\n",
            "Epoch 2: saving model to fer_model.h5\n",
            "898/898 [==============================] - 1039s 1s/step - loss: 1.3714 - accuracy: 0.4734 - val_loss: 1.2858 - val_accuracy: 0.5017 - lr: 0.0010\n",
            "Epoch 3/50\n",
            "898/898 [==============================] - ETA: 0s - loss: 1.2442 - accuracy: 0.5278\n",
            "Epoch 3: saving model to fer_model.h5\n",
            "898/898 [==============================] - 999s 1s/step - loss: 1.2442 - accuracy: 0.5278 - val_loss: 1.3588 - val_accuracy: 0.4604 - lr: 0.0010\n",
            "Epoch 4/50\n",
            "898/898 [==============================] - ETA: 0s - loss: 1.1718 - accuracy: 0.5543\n",
            "Epoch 4: saving model to fer_model.h5\n",
            "898/898 [==============================] - 989s 1s/step - loss: 1.1718 - accuracy: 0.5543 - val_loss: 1.2087 - val_accuracy: 0.5503 - lr: 0.0010\n",
            "Epoch 5/50\n",
            "898/898 [==============================] - ETA: 0s - loss: 1.1167 - accuracy: 0.5748\n",
            "Epoch 5: saving model to fer_model.h5\n",
            "898/898 [==============================] - 985s 1s/step - loss: 1.1167 - accuracy: 0.5748 - val_loss: 1.2472 - val_accuracy: 0.5405 - lr: 0.0010\n",
            "Epoch 6/50\n",
            "898/898 [==============================] - ETA: 0s - loss: 1.0683 - accuracy: 0.5977\n",
            "Epoch 6: saving model to fer_model.h5\n",
            "898/898 [==============================] - 986s 1s/step - loss: 1.0683 - accuracy: 0.5977 - val_loss: 1.1235 - val_accuracy: 0.5671 - lr: 0.0010\n",
            "Epoch 7/50\n",
            "898/898 [==============================] - ETA: 0s - loss: 1.0207 - accuracy: 0.6165\n",
            "Epoch 7: saving model to fer_model.h5\n",
            "898/898 [==============================] - 983s 1s/step - loss: 1.0207 - accuracy: 0.6165 - val_loss: 1.1153 - val_accuracy: 0.5704 - lr: 0.0010\n",
            "Epoch 8/50\n",
            "898/898 [==============================] - ETA: 0s - loss: 0.9662 - accuracy: 0.6378\n",
            "Epoch 8: saving model to fer_model.h5\n",
            "898/898 [==============================] - 981s 1s/step - loss: 0.9662 - accuracy: 0.6378 - val_loss: 1.1616 - val_accuracy: 0.5680 - lr: 0.0010\n",
            "Epoch 9/50\n",
            "898/898 [==============================] - ETA: 0s - loss: 0.9169 - accuracy: 0.6541\n",
            "Epoch 9: saving model to fer_model.h5\n",
            "898/898 [==============================] - 983s 1s/step - loss: 0.9169 - accuracy: 0.6541 - val_loss: 1.0662 - val_accuracy: 0.5953 - lr: 0.0010\n",
            "Epoch 10/50\n",
            "898/898 [==============================] - ETA: 0s - loss: 0.8714 - accuracy: 0.6725\n",
            "Epoch 10: saving model to fer_model.h5\n",
            "898/898 [==============================] - 982s 1s/step - loss: 0.8714 - accuracy: 0.6725 - val_loss: 1.1377 - val_accuracy: 0.5627 - lr: 0.0010\n",
            "Epoch 11/50\n",
            "898/898 [==============================] - ETA: 0s - loss: 0.8191 - accuracy: 0.6917\n",
            "Epoch 11: saving model to fer_model.h5\n",
            "898/898 [==============================] - 982s 1s/step - loss: 0.8191 - accuracy: 0.6917 - val_loss: 1.1631 - val_accuracy: 0.5733 - lr: 0.0010\n",
            "Epoch 12/50\n",
            "898/898 [==============================] - ETA: 0s - loss: 0.6644 - accuracy: 0.7579\n",
            "Epoch 12: saving model to fer_model.h5\n",
            "898/898 [==============================] - 978s 1s/step - loss: 0.6644 - accuracy: 0.7579 - val_loss: 0.9998 - val_accuracy: 0.6457 - lr: 1.0000e-04\n",
            "Epoch 13/50\n",
            "898/898 [==============================] - ETA: 0s - loss: 0.6180 - accuracy: 0.7724\n",
            "Epoch 13: saving model to fer_model.h5\n",
            "898/898 [==============================] - 979s 1s/step - loss: 0.6180 - accuracy: 0.7724 - val_loss: 1.0075 - val_accuracy: 0.6507 - lr: 1.0000e-04\n",
            "Epoch 14/50\n",
            "898/898 [==============================] - ETA: 0s - loss: 0.5934 - accuracy: 0.7801\n",
            "Epoch 14: saving model to fer_model.h5\n",
            "898/898 [==============================] - 982s 1s/step - loss: 0.5934 - accuracy: 0.7801 - val_loss: 1.0169 - val_accuracy: 0.6541 - lr: 1.0000e-04\n",
            "Epoch 15/50\n",
            "898/898 [==============================] - ETA: 0s - loss: 0.5579 - accuracy: 0.7950\n",
            "Epoch 15: saving model to fer_model.h5\n",
            "898/898 [==============================] - 980s 1s/step - loss: 0.5579 - accuracy: 0.7950 - val_loss: 1.0171 - val_accuracy: 0.6551 - lr: 1.0000e-05\n",
            "Epoch 16/50\n",
            "898/898 [==============================] - ETA: 0s - loss: 0.5507 - accuracy: 0.7975\n",
            "Epoch 16: saving model to fer_model.h5\n",
            "898/898 [==============================] - 982s 1s/step - loss: 0.5507 - accuracy: 0.7975 - val_loss: 1.0167 - val_accuracy: 0.6535 - lr: 1.0000e-05\n",
            "Epoch 17/50\n",
            "898/898 [==============================] - ETA: 0s - loss: 0.5570 - accuracy: 0.7945\n",
            "Epoch 17: saving model to fer_model.h5\n",
            "898/898 [==============================] - 981s 1s/step - loss: 0.5570 - accuracy: 0.7945 - val_loss: 1.0169 - val_accuracy: 0.6566 - lr: 1.0000e-05\n",
            "Epoch 18/50\n",
            "898/898 [==============================] - ETA: 0s - loss: 0.5498 - accuracy: 0.7973\n",
            "Epoch 18: saving model to fer_model.h5\n",
            "898/898 [==============================] - 983s 1s/step - loss: 0.5498 - accuracy: 0.7973 - val_loss: 1.0187 - val_accuracy: 0.6573 - lr: 1.0000e-05\n",
            "Epoch 19/50\n",
            "898/898 [==============================] - ETA: 0s - loss: 0.5518 - accuracy: 0.7968\n",
            "Epoch 19: saving model to fer_model.h5\n",
            "898/898 [==============================] - 1007s 1s/step - loss: 0.5518 - accuracy: 0.7968 - val_loss: 1.0172 - val_accuracy: 0.6551 - lr: 1.0000e-05\n",
            "Epoch 20/50\n",
            "898/898 [==============================] - ETA: 0s - loss: 0.5500 - accuracy: 0.7956\n",
            "Epoch 20: saving model to fer_model.h5\n",
            "898/898 [==============================] - 1005s 1s/step - loss: 0.5500 - accuracy: 0.7956 - val_loss: 1.0205 - val_accuracy: 0.6537 - lr: 1.0000e-05\n",
            "Epoch 21/50\n",
            "898/898 [==============================] - ETA: 0s - loss: 0.5396 - accuracy: 0.8020\n",
            "Epoch 21: saving model to fer_model.h5\n",
            "898/898 [==============================] - 979s 1s/step - loss: 0.5396 - accuracy: 0.8020 - val_loss: 1.0201 - val_accuracy: 0.6541 - lr: 1.0000e-05\n",
            "Epoch 22/50\n",
            "898/898 [==============================] - ETA: 0s - loss: 0.5444 - accuracy: 0.7999\n",
            "Epoch 22: saving model to fer_model.h5\n",
            "898/898 [==============================] - 970s 1s/step - loss: 0.5444 - accuracy: 0.7999 - val_loss: 1.0270 - val_accuracy: 0.6549 - lr: 1.0000e-05\n",
            "Epoch 23/50\n",
            "898/898 [==============================] - ETA: 0s - loss: 0.5426 - accuracy: 0.7986\n",
            "Epoch 23: saving model to fer_model.h5\n",
            "898/898 [==============================] - 970s 1s/step - loss: 0.5426 - accuracy: 0.7986 - val_loss: 1.0277 - val_accuracy: 0.6537 - lr: 1.0000e-05\n",
            "Epoch 24/50\n",
            "673/898 [=====================>........] - ETA: 3:50 - loss: 0.5468 - accuracy: 0.7981"
          ]
        }
      ],
      "source": [
        "epochs = 50\n",
        "\n",
        "reduce_lr = ReduceLROnPlateau(monitor='val_loss', factor=0.1,\n",
        "                              patience=2, min_lr=0.00001, mode='auto')\n",
        "\n",
        "checkpoint = ModelCheckpoint(\"fer_model.h5\", monitor='val_loss', \n",
        "                             mode='max', verbose=1)\n",
        "\n",
        "callbacks = [checkpoint, reduce_lr]\n",
        "\n",
        "history = model.fit(X_train, y_train, validation_data=(X_test, y_test), callbacks=callbacks, epochs = epochs)"
      ]
    },
    {
      "cell_type": "code",
      "execution_count": 1,
      "metadata": {
        "id": "QaeNTJRQYgTa"
      },
      "outputs": [],
      "source": [
        "emotions = ('angry', 'disgust', 'fear', 'happy', 'sad', 'surprise', 'neutral')"
      ]
    },
    {
      "cell_type": "code",
      "execution_count": null,
      "metadata": {
        "id": "NK1xeyjIYlEE"
      },
      "outputs": [],
      "source": [
        "import PIL\n",
        "from PIL import Image\n",
        "import cv2"
      ]
    },
    {
      "cell_type": "code",
      "execution_count": null,
      "metadata": {
        "id": "upDZYZGPYmBh"
      },
      "outputs": [],
      "source": [
        "img = cv2.imread(\"/content/angry-1.jpg\")"
      ]
    },
    {
      "cell_type": "code",
      "execution_count": null,
      "metadata": {
        "id": "mKaCEKXhY3Px"
      },
      "outputs": [],
      "source": [
        "img = cv2.cvtColor(img, cv2.COLOR_BGR2GRAY)"
      ]
    },
    {
      "cell_type": "code",
      "execution_count": null,
      "metadata": {
        "id": "dqKVriDnY63B"
      },
      "outputs": [],
      "source": [
        "img.shape"
      ]
    },
    {
      "cell_type": "code",
      "execution_count": null,
      "metadata": {
        "id": "4MVHDc1mY8n5"
      },
      "outputs": [],
      "source": [
        "img = cv2.resize(img, (48,48))"
      ]
    },
    {
      "cell_type": "code",
      "execution_count": null,
      "metadata": {
        "id": "S_RUdvNcY-vJ"
      },
      "outputs": [],
      "source": [
        "np.argmax(model.predict(img.reshape((1,48,48,1))), axis=-1)[0]"
      ]
    },
    {
      "cell_type": "code",
      "execution_count": null,
      "metadata": {
        "id": "kbly-gQ3ZA6h"
      },
      "outputs": [],
      "source": [
        "model.save(\"Fer_Model.h5\")"
      ]
    },
    {
      "cell_type": "code",
      "execution_count": null,
      "metadata": {
        "id": "LUuscVP1ZC2J"
      },
      "outputs": [],
      "source": [
        "model.save_weights(\"model_weights.h5\")"
      ]
    },
    {
      "cell_type": "code",
      "execution_count": null,
      "metadata": {
        "id": "3Bs7KNPgZExi"
      },
      "outputs": [],
      "source": [
        "model_json = model.to_json()\n",
        "with open(\"model.json\", \"w\") as json_file:\n",
        "    json_file.write(model_json)"
      ]
    }
  ],
  "metadata": {
    "colab": {
      "provenance": [],
      "authorship_tag": "ABX9TyMLVdUG33ni9eZbw9wR/IXq",
      "include_colab_link": true
    },
    "kernelspec": {
      "display_name": "Python 3",
      "name": "python3"
    },
    "language_info": {
      "name": "python"
    }
  },
  "nbformat": 4,
  "nbformat_minor": 0
}
